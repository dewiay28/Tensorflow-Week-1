This is my first code in DeepLearning of Tensorflow
This is a super simple code that shows the overall scaffolding for how my code works
Basicly learning about deep learning with neural networks
